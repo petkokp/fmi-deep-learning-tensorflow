{
 "cells": [
  {
   "cell_type": "markdown",
   "metadata": {},
   "source": [
    "# Softmax exercise\n",
    "\n",
    "*Complete and hand in this completed worksheet (including its outputs and any supporting code outside of the worksheet) with your assignment submission. For more details see the [assignments page](https://deep-learning-su.github.io/assignment-requirements/) on the course website.*\n",
    "\n",
    "This exercise is analogous to the SVM exercise. You will:\n",
    "\n",
    "- implement a fully-vectorized **loss function** for the Softmax classifier\n",
    "- implement the fully-vectorized expression for its **analytic gradient**\n",
    "- **check your implementation** with numerical gradient\n",
    "- use a validation set to **tune the learning rate and regularization** strength\n",
    "- **optimize** the loss function with **SGD**\n",
    "- **visualize** the final learned weights\n"
   ]
  },
  {
   "cell_type": "code",
   "execution_count": 1,
   "metadata": {},
   "outputs": [],
   "source": [
    "import random\n",
    "import numpy as np\n",
    "from deep_learning_su.data_utils import load_CIFAR10\n",
    "import matplotlib.pyplot as plt\n",
    "\n",
    "from __future__ import print_function\n",
    "\n",
    "%matplotlib inline\n",
    "plt.rcParams['figure.figsize'] = (10.0, 8.0) # set default size of plots\n",
    "plt.rcParams['image.interpolation'] = 'nearest'\n",
    "plt.rcParams['image.cmap'] = 'gray'\n",
    "\n",
    "# for auto-reloading extenrnal modules\n",
    "# see http://stackoverflow.com/questions/1907993/autoreload-of-modules-in-ipython\n",
    "%load_ext autoreload\n",
    "%autoreload 2"
   ]
  },
  {
   "cell_type": "code",
   "execution_count": 2,
   "metadata": {},
   "outputs": [
    {
     "name": "stdout",
     "output_type": "stream",
     "text": [
      "Train data shape:  (49000, 3073)\n",
      "Train labels shape:  (49000,)\n",
      "Validation data shape:  (1000, 3073)\n",
      "Validation labels shape:  (1000,)\n",
      "Test data shape:  (1000, 3073)\n",
      "Test labels shape:  (1000,)\n",
      "dev data shape:  (500, 3073)\n",
      "dev labels shape:  (500,)\n"
     ]
    }
   ],
   "source": [
    "def get_CIFAR10_data(num_training=49000, num_validation=1000, num_test=1000, num_dev=500):\n",
    "    \"\"\"\n",
    "    Load the CIFAR-10 dataset from disk and perform preprocessing to prepare\n",
    "    it for the linear classifier. These are the same steps as we used for the\n",
    "    SVM, but condensed to a single function.  \n",
    "    \"\"\"\n",
    "    # Load the raw CIFAR-10 data\n",
    "    cifar10_dir = 'deep_learning_su/datasets/cifar-10-batches-py'\n",
    "    X_train, y_train, X_test, y_test = load_CIFAR10(cifar10_dir)\n",
    "    \n",
    "    # subsample the data\n",
    "    mask = list(range(num_training, num_training + num_validation))\n",
    "    X_val = X_train[mask]\n",
    "    y_val = y_train[mask]\n",
    "    mask = list(range(num_training))\n",
    "    X_train = X_train[mask]\n",
    "    y_train = y_train[mask]\n",
    "    mask = list(range(num_test))\n",
    "    X_test = X_test[mask]\n",
    "    y_test = y_test[mask]\n",
    "    mask = np.random.choice(num_training, num_dev, replace=False)\n",
    "    X_dev = X_train[mask]\n",
    "    y_dev = y_train[mask]\n",
    "    \n",
    "    # Preprocessing: reshape the image data into rows\n",
    "    X_train = np.reshape(X_train, (X_train.shape[0], -1))\n",
    "    X_val = np.reshape(X_val, (X_val.shape[0], -1))\n",
    "    X_test = np.reshape(X_test, (X_test.shape[0], -1))\n",
    "    X_dev = np.reshape(X_dev, (X_dev.shape[0], -1))\n",
    "    \n",
    "    # Normalize the data: subtract the mean image\n",
    "    mean_image = np.mean(X_train, axis = 0)\n",
    "    X_train -= mean_image\n",
    "    X_val -= mean_image\n",
    "    X_test -= mean_image\n",
    "    X_dev -= mean_image\n",
    "    \n",
    "    # add bias dimension and transform into columns\n",
    "    X_train = np.hstack([X_train, np.ones((X_train.shape[0], 1))])\n",
    "    X_val = np.hstack([X_val, np.ones((X_val.shape[0], 1))])\n",
    "    X_test = np.hstack([X_test, np.ones((X_test.shape[0], 1))])\n",
    "    X_dev = np.hstack([X_dev, np.ones((X_dev.shape[0], 1))])\n",
    "    \n",
    "    return X_train, y_train, X_val, y_val, X_test, y_test, X_dev, y_dev\n",
    "\n",
    "\n",
    "# Invoke the above function to get our data.\n",
    "X_train, y_train, X_val, y_val, X_test, y_test, X_dev, y_dev = get_CIFAR10_data()\n",
    "print('Train data shape: ', X_train.shape)\n",
    "print('Train labels shape: ', y_train.shape)\n",
    "print('Validation data shape: ', X_val.shape)\n",
    "print('Validation labels shape: ', y_val.shape)\n",
    "print('Test data shape: ', X_test.shape)\n",
    "print('Test labels shape: ', y_test.shape)\n",
    "print('dev data shape: ', X_dev.shape)\n",
    "print('dev labels shape: ', y_dev.shape)"
   ]
  },
  {
   "cell_type": "markdown",
   "metadata": {},
   "source": [
    "## Softmax Classifier\n",
    "\n",
    "Your code for this section will all be written inside **deep_learning_su/classifiers/softmax.py**. \n"
   ]
  },
  {
   "cell_type": "code",
   "execution_count": 3,
   "metadata": {},
   "outputs": [
    {
     "name": "stdout",
     "output_type": "stream",
     "text": [
      "loss: 2.334723\n",
      "sanity check: 2.302585\n"
     ]
    }
   ],
   "source": [
    "# First implement the naive softmax loss function with nested loops.\n",
    "# Open the file deep_learning_su/classifiers/softmax.py and implement the\n",
    "# softmax_loss_naive function.\n",
    "\n",
    "from deep_learning_su.classifiers.softmax import softmax_loss_naive\n",
    "import time\n",
    "\n",
    "# Generate a random softmax weight matrix and use it to compute the loss.\n",
    "W = np.random.randn(3073, 10) * 0.0001\n",
    "loss, grad = softmax_loss_naive(W, X_dev, y_dev, 0.0)\n",
    "\n",
    "# As a rough sanity check, our loss should be something close to -log(0.1).\n",
    "print('loss: %f' % loss)\n",
    "print('sanity check: %f' % (-np.log(0.1)))"
   ]
  },
  {
   "cell_type": "markdown",
   "metadata": {},
   "source": [
    "## Inline Question 1:\n",
    "Why do we expect our loss to be close to -log(0.1)? Explain briefly.**\n",
    "\n",
    "**Your answer:** Because we have 10 classes and the probability of predicting the right class randomly is 0.1. And this the expected output from the softmax function.\n"
   ]
  },
  {
   "cell_type": "code",
   "execution_count": 4,
   "metadata": {},
   "outputs": [
    {
     "name": "stdout",
     "output_type": "stream",
     "text": [
      "numerical: -0.720110 analytic: -0.720110, relative error: 2.488239e-08\n",
      "numerical: -2.301547 analytic: -2.301547, relative error: 3.994285e-08\n",
      "numerical: -0.301789 analytic: -0.301789, relative error: 4.724968e-08\n",
      "numerical: -5.360088 analytic: -5.360088, relative error: 4.247048e-09\n",
      "numerical: 3.795635 analytic: 3.795635, relative error: 1.010609e-09\n",
      "numerical: -1.174457 analytic: -1.174457, relative error: 1.004482e-09\n",
      "numerical: -0.338032 analytic: -0.338032, relative error: 3.265927e-08\n",
      "numerical: -1.192157 analytic: -1.192157, relative error: 3.710348e-09\n",
      "numerical: -2.173199 analytic: -2.173199, relative error: 4.405299e-09\n",
      "numerical: 2.448032 analytic: 2.448032, relative error: 1.933230e-08\n",
      "numerical: 1.292894 analytic: 1.292894, relative error: 1.384508e-08\n",
      "numerical: 0.973195 analytic: 0.973195, relative error: 2.986046e-08\n",
      "numerical: 1.302235 analytic: 1.302235, relative error: 1.458632e-09\n",
      "numerical: -0.182359 analytic: -0.182360, relative error: 1.958147e-07\n",
      "numerical: 2.169097 analytic: 2.169097, relative error: 6.387135e-11\n",
      "numerical: 1.313365 analytic: 1.313365, relative error: 1.344604e-09\n",
      "numerical: -0.921147 analytic: -0.921147, relative error: 3.067138e-08\n",
      "numerical: 1.767495 analytic: 1.767495, relative error: 3.982239e-09\n",
      "numerical: -0.751956 analytic: -0.751956, relative error: 2.327368e-08\n",
      "numerical: 0.461989 analytic: 0.461989, relative error: 5.549581e-08\n"
     ]
    }
   ],
   "source": [
    "# Complete the implementation of softmax_loss_naive and implement a (naive)\n",
    "# version of the gradient that uses nested loops.\n",
    "loss, grad = softmax_loss_naive(W, X_dev, y_dev, 0.0)\n",
    "\n",
    "# As we did for the SVM, use numeric gradient checking as a debugging tool.\n",
    "# The numeric gradient should be close to the analytic gradient.\n",
    "from deep_learning_su.gradient_check import grad_check_sparse\n",
    "f = lambda w: softmax_loss_naive(w, X_dev, y_dev, 0.0)[0]\n",
    "grad_numerical = grad_check_sparse(f, W, grad, 10)\n",
    "\n",
    "# similar to SVM case, do another gradient check with regularization\n",
    "loss, grad = softmax_loss_naive(W, X_dev, y_dev, 5e1)\n",
    "f = lambda w: softmax_loss_naive(w, X_dev, y_dev, 5e1)[0]\n",
    "grad_numerical = grad_check_sparse(f, W, grad, 10)"
   ]
  },
  {
   "cell_type": "code",
   "execution_count": 6,
   "metadata": {},
   "outputs": [
    {
     "name": "stdout",
     "output_type": "stream",
     "text": [
      "naive loss: 2.334723e+00 computed in 0.078633s\n",
      "vectorized loss: 4.669446e-03 computed in 0.039228s\n",
      "Loss difference: 2.330053\n",
      "Gradient difference: 0.000000\n"
     ]
    }
   ],
   "source": [
    "# Now that we have a naive implementation of the softmax loss function and its gradient,\n",
    "# implement a vectorized version in softmax_loss_vectorized.\n",
    "# The two versions should compute the same results, but the vectorized version should be\n",
    "# much faster.\n",
    "tic = time.time()\n",
    "loss_naive, grad_naive = softmax_loss_naive(W, X_dev, y_dev, 0.000005)\n",
    "toc = time.time()\n",
    "print('naive loss: %e computed in %fs' % (loss_naive, toc - tic))\n",
    "\n",
    "from deep_learning_su.classifiers.softmax import softmax_loss_vectorized\n",
    "tic = time.time()\n",
    "loss_vectorized, grad_vectorized = softmax_loss_vectorized(W, X_dev, y_dev, 0.000005)\n",
    "toc = time.time()\n",
    "print('vectorized loss: %e computed in %fs' % (loss_vectorized, toc - tic))\n",
    "\n",
    "# As we did for the SVM, we use the Frobenius norm to compare the two versions\n",
    "# of the gradient.\n",
    "grad_difference = np.linalg.norm(grad_naive - grad_vectorized, ord='fro')\n",
    "print('Loss difference: %f' % np.abs(loss_naive - loss_vectorized))\n",
    "print('Gradient difference: %f' % grad_difference)"
   ]
  },
  {
   "cell_type": "code",
   "execution_count": 7,
   "metadata": {},
   "outputs": [
    {
     "name": "stdout",
     "output_type": "stream",
     "text": [
      "iteration 0 / 2000: loss 385.431185\n",
      "iteration 100 / 2000: loss 233.054723\n",
      "iteration 200 / 2000: loss 140.990027\n",
      "iteration 300 / 2000: loss 85.322005\n",
      "iteration 400 / 2000: loss 51.657334\n",
      "iteration 500 / 2000: loss 31.293712\n",
      "iteration 600 / 2000: loss 18.974707\n",
      "iteration 700 / 2000: loss 11.523325\n",
      "iteration 800 / 2000: loss 7.015296\n",
      "iteration 900 / 2000: loss 4.285709\n",
      "iteration 1000 / 2000: loss 2.633778\n",
      "iteration 1100 / 2000: loss 1.633608\n",
      "iteration 1200 / 2000: loss 1.028395\n",
      "iteration 1300 / 2000: loss 0.662591\n",
      "iteration 1400 / 2000: loss 0.441692\n",
      "iteration 1500 / 2000: loss 0.306845\n",
      "iteration 1600 / 2000: loss 0.224900\n",
      "iteration 1700 / 2000: loss 0.175873\n",
      "iteration 1800 / 2000: loss 0.144658\n",
      "iteration 1900 / 2000: loss 0.127643\n",
      "iteration 0 / 2000: loss 766.165603\n",
      "iteration 100 / 2000: loss 280.374989\n",
      "iteration 200 / 2000: loss 102.678968\n",
      "iteration 300 / 2000: loss 37.651753\n",
      "iteration 400 / 2000: loss 13.850989\n",
      "iteration 500 / 2000: loss 5.135111\n",
      "iteration 600 / 2000: loss 1.943267\n",
      "iteration 700 / 2000: loss 0.774840\n",
      "iteration 800 / 2000: loss 0.343835\n",
      "iteration 900 / 2000: loss 0.187830\n",
      "iteration 1000 / 2000: loss 0.130315\n",
      "iteration 1100 / 2000: loss 0.110146\n",
      "iteration 1200 / 2000: loss 0.102042\n",
      "iteration 1300 / 2000: loss 0.098198\n",
      "iteration 1400 / 2000: loss 0.097499\n",
      "iteration 1500 / 2000: loss 0.097915\n",
      "iteration 1600 / 2000: loss 0.096797\n",
      "iteration 1700 / 2000: loss 0.099897\n",
      "iteration 1800 / 2000: loss 0.098679\n",
      "iteration 1900 / 2000: loss 0.096867\n",
      "iteration 0 / 2000: loss 385.666883\n",
      "iteration 100 / 2000: loss 30.891830\n",
      "iteration 200 / 2000: loss 2.561389\n",
      "iteration 300 / 2000: loss 0.299758\n",
      "iteration 400 / 2000: loss 0.116532\n",
      "iteration 500 / 2000: loss 0.103303\n",
      "iteration 600 / 2000: loss 0.103548\n",
      "iteration 700 / 2000: loss 0.103891\n",
      "iteration 800 / 2000: loss 0.102769\n",
      "iteration 900 / 2000: loss 0.100329\n",
      "iteration 1000 / 2000: loss 0.100133\n",
      "iteration 1100 / 2000: loss 0.103213\n",
      "iteration 1200 / 2000: loss 0.105434\n",
      "iteration 1300 / 2000: loss 0.102775\n",
      "iteration 1400 / 2000: loss 0.101249\n",
      "iteration 1500 / 2000: loss 0.101376\n",
      "iteration 1600 / 2000: loss 0.101564\n",
      "iteration 1700 / 2000: loss 0.101565\n",
      "iteration 1800 / 2000: loss 0.100890\n",
      "iteration 1900 / 2000: loss 0.100787\n",
      "iteration 0 / 2000: loss 768.316947\n",
      "iteration 100 / 2000: loss 4.890956\n",
      "iteration 200 / 2000: loss 0.130776\n",
      "iteration 300 / 2000: loss 0.102957\n",
      "iteration 400 / 2000: loss 0.101490\n",
      "iteration 500 / 2000: loss 0.097180\n",
      "iteration 600 / 2000: loss 0.099977\n",
      "iteration 700 / 2000: loss 0.101847\n",
      "iteration 800 / 2000: loss 0.097168\n",
      "iteration 900 / 2000: loss 0.100123\n",
      "iteration 1000 / 2000: loss 0.100622\n",
      "iteration 1100 / 2000: loss 0.104144\n",
      "iteration 1200 / 2000: loss 0.097561\n",
      "iteration 1300 / 2000: loss 0.097640\n",
      "iteration 1400 / 2000: loss 0.102265\n",
      "iteration 1500 / 2000: loss 0.101133\n",
      "iteration 1600 / 2000: loss 0.098229\n",
      "iteration 1700 / 2000: loss 0.103164\n",
      "iteration 1800 / 2000: loss 0.101385\n",
      "iteration 1900 / 2000: loss 0.099352\n",
      "lr 1.000000e-07 reg 2.500000e+04 train accuracy: 0.352020 val accuracy: 0.370000\n",
      "lr 1.000000e-07 reg 5.000000e+04 train accuracy: 0.325367 val accuracy: 0.339000\n",
      "lr 5.000000e-07 reg 2.500000e+04 train accuracy: 0.347816 val accuracy: 0.364000\n",
      "lr 5.000000e-07 reg 5.000000e+04 train accuracy: 0.318082 val accuracy: 0.331000\n",
      "best validation accuracy achieved during cross-validation: 0.370000\n"
     ]
    }
   ],
   "source": [
    "# Use the validation set to tune hyperparameters (regularization strength and\n",
    "# learning rate). You should experiment with different ranges for the learning\n",
    "# rates and regularization strengths; if you are careful you should be able to\n",
    "# get a classification accuracy of over 0.35 on the validation set.\n",
    "from deep_learning_su.classifiers import Softmax\n",
    "results = {}\n",
    "best_val = -1\n",
    "best_softmax = None\n",
    "learning_rates = [1e-7, 5e-7]\n",
    "regularization_strengths = [2.5e4, 5e4]\n",
    "\n",
    "################################################################################\n",
    "# TODO:                                                                        #\n",
    "# Use the validation set to set the learning rate and regularization strength. #\n",
    "# This should be identical to the validation that you did for the SVM; save    #\n",
    "# the best trained softmax classifer in best_softmax.                          #\n",
    "################################################################################\n",
    "num_iters = 2000\n",
    "\n",
    "for lr in learning_rates:\n",
    "    for reg in regularization_strengths:\n",
    "        softmax = Softmax()\n",
    "        loss_hist = softmax.train(X_train, y_train, learning_rate=lr, reg=reg,\n",
    "                                  num_iters=num_iters, verbose=True)\n",
    "        y_train_prediction = softmax.predict(X_train)\n",
    "        y_val_prediction = softmax.predict(X_val)\n",
    "        train_acc = np.mean(y_train == y_train_prediction)\n",
    "        val_acc = np.mean(y_val == y_val_prediction)\n",
    "        results[(lr, reg)] = (train_acc, val_acc)\n",
    "        \n",
    "        if val_acc > best_val:\n",
    "            best_val = val_acc\n",
    "            best_softmax = softmax\n",
    "################################################################################\n",
    "#                              END OF YOUR CODE                                #\n",
    "################################################################################\n",
    "    \n",
    "# Print out results.\n",
    "for lr, reg in sorted(results):\n",
    "    train_accuracy, val_accuracy = results[(lr, reg)]\n",
    "    print('lr %e reg %e train accuracy: %f val accuracy: %f' % (\n",
    "                lr, reg, train_accuracy, val_accuracy))\n",
    "    \n",
    "print('best validation accuracy achieved during cross-validation: %f' % best_val)"
   ]
  },
  {
   "cell_type": "code",
   "execution_count": 8,
   "metadata": {},
   "outputs": [
    {
     "name": "stdout",
     "output_type": "stream",
     "text": [
      "softmax on raw pixels final test set accuracy: 0.361000\n"
     ]
    }
   ],
   "source": [
    "# evaluate on test set\n",
    "# Evaluate the best softmax on test set\n",
    "y_test_pred = best_softmax.predict(X_test)\n",
    "test_accuracy = np.mean(y_test == y_test_pred)\n",
    "print('softmax on raw pixels final test set accuracy: %f' % (test_accuracy, ))"
   ]
  },
  {
   "cell_type": "code",
   "execution_count": 9,
   "metadata": {},
   "outputs": [
    {
     "data": {
      "image/png": "[encoded data removed]",
      "text/plain": [
       "<matplotlib.figure.Figure at 0x7f34ce0d76a0>"
      ]
     },
     "metadata": {},
     "output_type": "display_data"
    }
   ],
   "source": [
    "# Visualize the learned weights for each class\n",
    "w = best_softmax.W[:-1,:] # strip out the bias\n",
    "w = w.reshape(32, 32, 3, 10)\n",
    "\n",
    "w_min, w_max = np.min(w), np.max(w)\n",
    "\n",
    "classes = ['plane', 'car', 'bird', 'cat', 'deer', 'dog', 'frog', 'horse', 'ship', 'truck']\n",
    "for i in range(10):\n",
    "    plt.subplot(2, 5, i + 1)\n",
    "    \n",
    "    # Rescale the weights to be between 0 and 255\n",
    "    wimg = 255.0 * (w[:, :, :, i].squeeze() - w_min) / (w_max - w_min)\n",
    "    plt.imshow(wimg.astype('uint8'))\n",
    "    plt.axis('off')\n",
    "    plt.title(classes[i])"
   ]
  }
 ],
 "metadata": {
  "kernelspec": {
   "display_name": "Python 3",
   "language": "python",
   "name": "python3"
  },
  "language_info": {
   "codemirror_mode": {
    "name": "ipython",
    "version": 3
   },
   "file_extension": ".py",
   "mimetype": "text/x-python",
   "name": "python",
   "nbconvert_exporter": "python",
   "pygments_lexer": "ipython3",
   "version": "3.6.15"
  },
  "varInspector": {
   "cols": {
    "lenName": 16,
    "lenType": 16,
    "lenVar": 40
   },
   "kernels_config": {
    "python": {
     "delete_cmd_postfix": "",
     "delete_cmd_prefix": "del ",
     "library": "var_list.py",
     "varRefreshCmd": "print(var_dic_list())"
    },
    "r": {
     "delete_cmd_postfix": ") ",
     "delete_cmd_prefix": "rm(",
     "library": "var_list.r",
     "varRefreshCmd": "cat(var_dic_list()) "
    }
   },
   "types_to_exclude": [
    "module",
    "function",
    "builtin_function_or_method",
    "instance",
    "_Feature"
   ],
   "window_display": false
  }
 },
 "nbformat": 4,
 "nbformat_minor": 1
}
